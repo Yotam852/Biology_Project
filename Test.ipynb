{
 "cells": [
  {
   "metadata": {},
   "cell_type": "markdown",
   "source": "Import Required Libraries",
   "id": "cfbaf80a2da7e945"
  },
  {
   "metadata": {
    "ExecuteTime": {
     "end_time": "2024-06-02T08:22:45.901927Z",
     "start_time": "2024-06-02T08:22:45.898413Z"
    }
   },
   "cell_type": "code",
   "source": [
    "import numpy as np\n",
    "from scipy.integrate import odeint\n",
    "import matplotlib.pyplot as plt\n",
    "import matplotlib.patches as patches\n",
    "from matplotlib.animation import FuncAnimation"
   ],
   "id": "39052b062c5f9a77",
   "outputs": [],
   "execution_count": 4
  },
  {
   "metadata": {},
   "cell_type": "markdown",
   "source": "Default Parameters",
   "id": "5d061ba2af4e989c"
  },
  {
   "metadata": {
    "ExecuteTime": {
     "end_time": "2024-06-02T08:27:12.558643Z",
     "start_time": "2024-06-02T08:27:12.548164Z"
    }
   },
   "cell_type": "code",
   "source": [
    "def default_params():\n",
    "    return {\n",
    "        'nu': 1,\n",
    "        'betaD': 10,\n",
    "        'betaR': 10,\n",
    "        'h': 3,\n",
    "        'm': 3,\n",
    "        'sigma': 0.2,\n",
    "        'P': 10,\n",
    "        'Q': 10\n",
    "    }"
   ],
   "id": "1a9319f1f141b41e",
   "outputs": [],
   "execution_count": 19
  },
  {
   "metadata": {},
   "cell_type": "markdown",
   "source": "Get Connectivity Matrix",
   "id": "ae2b247fe45a954d"
  },
  {
   "metadata": {
    "ExecuteTime": {
     "end_time": "2024-06-02T09:19:52.457734Z",
     "start_time": "2024-06-02T09:19:52.453556Z"
    }
   },
   "cell_type": "code",
   "source": [
    "def get_connectivity_matrix(P, Q):\n",
    "    k = P * Q\n",
    "    M = np.zeros((k, k))\n",
    "    w = 1 / 6\n",
    "    \n",
    "    for s in range(k):\n",
    "        neighbors = find_neighbor_hex(s, P, Q)\n",
    "        for r in range(6):\n",
    "            M[s, neighbors[r]] = w\n",
    "    return M"
   ],
   "id": "8b2a932ec44dd62a",
   "outputs": [],
   "execution_count": 21
  },
  {
   "metadata": {},
   "cell_type": "markdown",
   "source": "Find Neighbors in Hexagonal Grid",
   "id": "2beeb7e51e1dd122"
  },
  {
   "metadata": {
    "ExecuteTime": {
     "end_time": "2024-06-02T09:19:53.884410Z",
     "start_time": "2024-06-02T09:19:53.879680Z"
    }
   },
   "cell_type": "code",
   "source": [
    "def find_neighbor_hex(ind, P, Q):\n",
    "    p, q = ind2pq(ind, P)\n",
    "    neighbors = [\n",
    "        pq2ind((p % P) + 1, q, P),\n",
    "        pq2ind((p - 2) % P + 1, q, P),\n",
    "        pq2ind(p % P + 1, (q - 2) % Q + 1, P),\n",
    "        pq2ind((p - 2) % P + 1, (q - 2) % Q + 1, P),\n",
    "        pq2ind(p % P + 1, (q % Q) + 1, P),\n",
    "        pq2ind((p - 2) % P + 1, (q % Q) + 1, P)\n",
    "    ]\n",
    "    return [n for n in neighbors if 0 <= n < P * Q]  # Ensure indices are within bounds\n",
    "\n",
    "def pq2ind(p, q, P):\n",
    "    return (p - 1) + (q - 1) * P\n",
    "\n",
    "def ind2pq(ind, P):\n",
    "    q = 1 + (ind // P)\n",
    "    p = 1 + (ind % P)\n",
    "    return p, q"
   ],
   "id": "617c08c66e47e0e7",
   "outputs": [],
   "execution_count": 22
  },
  {
   "metadata": {},
   "cell_type": "markdown",
   "source": "Set Initial Conditions",
   "id": "18072d5fabc262c0"
  },
  {
   "metadata": {
    "ExecuteTime": {
     "end_time": "2024-06-02T09:19:59.220283Z",
     "start_time": "2024-06-02T09:19:59.216687Z"
    }
   },
   "cell_type": "code",
   "source": [
    "def get_initial_conditions(params, k):\n",
    "    U = np.random.rand(k) - 0.5\n",
    "    epsilon = 1e-5\n",
    "    D0 = epsilon * params['betaD'] * (1 + params['sigma'] * U)\n",
    "    R0 = np.zeros(k)\n",
    "    y0 = np.concatenate([D0, R0])\n",
    "    return y0"
   ],
   "id": "4df69ccb3b2ddd96",
   "outputs": [],
   "execution_count": 23
  },
  {
   "metadata": {},
   "cell_type": "markdown",
   "source": "Differential Equations",
   "id": "4d0d3ea883fe81fc"
  },
  {
   "metadata": {
    "ExecuteTime": {
     "end_time": "2024-06-02T09:20:00.852194Z",
     "start_time": "2024-06-02T09:20:00.847337Z"
    }
   },
   "cell_type": "code",
   "source": [
    "def li(y, t, params):\n",
    "    nu = params['nu']\n",
    "    betaD = params['betaD']\n",
    "    betaR = params['betaR']\n",
    "    h = params['h']\n",
    "    m = params['m']\n",
    "    M = params['connectivity']\n",
    "    k = len(M)\n",
    "    \n",
    "    D = y[:k]\n",
    "    R = y[k:2*k]\n",
    "    Dneighbor = M.dot(D)\n",
    "    \n",
    "    dD = nu * (betaD / (1 + R**h) - D)\n",
    "    dR = betaR * Dneighbor**m / (1 + Dneighbor**m) - R\n",
    "    \n",
    "    return np.concatenate([dD, dR])"
   ],
   "id": "4052bdb71f170994",
   "outputs": [],
   "execution_count": 24
  },
  {
   "metadata": {},
   "cell_type": "markdown",
   "source": "Plot Two Cells",
   "id": "f9ad34abbf51a7e5"
  },
  {
   "metadata": {
    "ExecuteTime": {
     "end_time": "2024-06-02T09:20:03.052450Z",
     "start_time": "2024-06-02T09:20:03.047573Z"
    }
   },
   "cell_type": "code",
   "source": [
    "def plot_two_cells(t, y, k):\n",
    "    fig, axes = plt.subplots(1, 2)\n",
    "    for i in range(2):\n",
    "        axes[i].plot(t, y[:, i], '-r', linewidth=2)\n",
    "        axes[i].plot(t, y[:, k + i], '-b', linewidth=2)\n",
    "        axes[i].set_title(f'cell #{i+1}')\n",
    "        axes[i].set_xlabel('t [a.u]')\n",
    "        axes[i].set_ylabel('concentration [a.u]')\n",
    "        axes[i].legend(['D', 'R'])\n",
    "    plt.show()"
   ],
   "id": "ee9b08efc75eedb6",
   "outputs": [],
   "execution_count": 25
  },
  {
   "metadata": {},
   "cell_type": "markdown",
   "source": "Plot Hexagon for Lattice",
   "id": "91e6352cd0b07ea6"
  },
  {
   "metadata": {
    "ExecuteTime": {
     "end_time": "2024-06-02T09:20:05.322257Z",
     "start_time": "2024-06-02T09:20:05.317766Z"
    }
   },
   "cell_type": "code",
   "source": [
    "def plot_hexagon(p0, q0, c, ax):\n",
    "    s32 = np.sqrt(3) / 4\n",
    "    q = q0 * 3 / 4\n",
    "    p = p0 * 2 * s32\n",
    "    if q0 % 2 == 0:\n",
    "        p += s32\n",
    "    \n",
    "    x = [q - 0.5, q - 0.25, q + 0.25, q + 0.5, q + 0.25, q - 0.25]\n",
    "    y = [p, p + s32, p + s32, p, p - s32, p - s32]\n",
    "    \n",
    "    polygon = patches.Polygon(list(zip(x, y)), closed=True, color=c, linewidth=2)\n",
    "    ax.add_patch(polygon)"
   ],
   "id": "cbb176d4ddccc70d",
   "outputs": [],
   "execution_count": 26
  },
  {
   "metadata": {},
   "cell_type": "markdown",
   "source": "Generate Movie Lattice",
   "id": "a51256b55b98bb65"
  },
  {
   "metadata": {
    "ExecuteTime": {
     "end_time": "2024-06-02T09:32:56.456315Z",
     "start_time": "2024-06-02T09:32:56.450735Z"
    }
   },
   "cell_type": "code",
   "source": [
    "def movie_lattice(t, y, P, Q, k):\n",
    "    fig, ax = plt.subplots()\n",
    "    Cmax = np.max(y[-1, :k])\n",
    "    \n",
    "    def update(frame):\n",
    "        ax.clear()\n",
    "        Cmax = np.max(y[:, :k])\n",
    "        for i in range(1, P + 1):\n",
    "                for j in range(1, Q + 1):\n",
    "                    ind = pq2ind(i, j, P)\n",
    "                    if ind < k:  # Ensure the index is within bounds\n",
    "                        mycolor = 0\n",
    "                        if Cmax != 0:\n",
    "                            mycolor = min(y[frame, ind] / Cmax, 1)\n",
    "                        plot_hexagon(i, j, [1 - mycolor, 1 - mycolor, 1], ax)\n",
    "        ax.set_aspect('equal')\n",
    "        ax.axis('off')\n",
    "    \n",
    "    ani = FuncAnimation(fig, update, frames=range(0, len(t), 5), repeat=False)\n",
    "    plt.show()\n",
    "    return ani"
   ],
   "id": "64da4bcb18d06c7d",
   "outputs": [],
   "execution_count": 32
  },
  {
   "metadata": {},
   "cell_type": "markdown",
   "source": "Main Function",
   "id": "21a762ed72281884"
  },
  {
   "metadata": {
    "ExecuteTime": {
     "end_time": "2024-06-02T09:32:58.649584Z",
     "start_time": "2024-06-02T09:32:58.644204Z"
    }
   },
   "cell_type": "code",
   "source": [
    "def multicell_LI(params=None):\n",
    "    if params is None:\n",
    "        params = default_params()\n",
    "    \n",
    "    P = params['P']\n",
    "    Q = params['Q']\n",
    "    k = P * Q\n",
    "    \n",
    "    params['connectivity'] = get_connectivity_matrix(P, Q)\n",
    "    y0 = get_initial_conditions(params, k)\n",
    "    \n",
    "    t = np.linspace(0, 30, 300)\n",
    "    y = odeint(li, y0, t, args=(params,))\n",
    "    \n",
    "    plot_two_cells(t, y, k)\n",
    "    ani = movie_lattice(t, y, P, Q, k)\n",
    "    \n",
    "    return y, t, params, ani"
   ],
   "id": "78207fd87fef0fe4",
   "outputs": [],
   "execution_count": 33
  },
  {
   "metadata": {},
   "cell_type": "markdown",
   "source": "Running the Simulation",
   "id": "98d7816564cbe9c2"
  },
  {
   "metadata": {
    "ExecuteTime": {
     "end_time": "2024-06-02T09:33:02.408131Z",
     "start_time": "2024-06-02T09:33:02.101763Z"
    }
   },
   "cell_type": "code",
   "source": "y, t, params = multicell_LI()",
   "id": "c695cefebc5419f3",
   "outputs": [
    {
     "data": {
      "text/plain": [
       "<Figure size 640x480 with 2 Axes>"
      ],
      "image/png": "[encoded data removed]"
     },
     "metadata": {},
     "output_type": "display_data"
    },
    {
     "data": {
      "text/plain": [
       "<Figure size 640x480 with 1 Axes>"
      ],
      "image/png": "[encoded data removed]"
     },
     "metadata": {},
     "output_type": "display_data"
    },
    {
     "ename": "ValueError",
     "evalue": "too many values to unpack (expected 3)",
     "output_type": "error",
     "traceback": [
      "\u001B[1;31m---------------------------------------------------------------------------\u001B[0m",
      "\u001B[1;31mValueError\u001B[0m                                Traceback (most recent call last)",
      "Cell \u001B[1;32mIn[34], line 1\u001B[0m\n\u001B[1;32m----> 1\u001B[0m y, t, params \u001B[38;5;241m=\u001B[39m multicell_LI()\n",
      "\u001B[1;31mValueError\u001B[0m: too many values to unpack (expected 3)"
     ]
    }
   ],
   "execution_count": 34
  }
 ],
 "metadata": {
  "kernelspec": {
   "display_name": "Python 3",
   "language": "python",
   "name": "python3"
  },
  "language_info": {
   "codemirror_mode": {
    "name": "ipython",
    "version": 2
   },
   "file_extension": ".py",
   "mimetype": "text/x-python",
   "name": "python",
   "nbconvert_exporter": "python",
   "pygments_lexer": "ipython2",
   "version": "2.7.6"
  }
 },
 "nbformat": 4,
 "nbformat_minor": 5
}
