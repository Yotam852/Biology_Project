{
 "cells": [
  {
   "metadata": {},
   "cell_type": "markdown",
   "source": "Importing",
   "id": "1f443f0138d3f947"
  },
  {
   "metadata": {
    "ExecuteTime": {
     "end_time": "2024-04-30T11:02:44.075024Z",
     "start_time": "2024-04-30T11:02:44.059994Z"
    }
   },
   "cell_type": "code",
   "source": [
    "import numpy as np\n",
    "import matplotlib.pyplot as plt\n",
    "import scienceplots\n",
    "import scipy as sp\n",
    "from scipy.integrate import odeint"
   ],
   "id": "b784f18332348aca",
   "outputs": [],
   "execution_count": 11
  },
  {
   "metadata": {},
   "cell_type": "markdown",
   "source": "Creating the function for the ODE",
   "id": "ffd05c475920f771"
  },
  {
   "metadata": {
    "ExecuteTime": {
     "end_time": "2024-04-30T09:10:18.472796Z",
     "start_time": "2024-04-30T09:10:18.458388Z"
    }
   },
   "cell_type": "code",
   "source": [
    "def model(z, t, betaD, betaR, v, n, m, k, M):\n",
    "    D = z[:k]\n",
    "    R = z[k:2*k]\n",
    "    D_n = M@z[:k]\n",
    "    dDdT = v * (betaD / (1 + R ** n) - D)\n",
    "    dRdt = betaR * D_n**m / (1 + D_n**m) -R\n",
    "    return [dDdT, dRdt]"
   ],
   "id": "b1eb5d74063d9c0b",
   "outputs": [],
   "execution_count": 2
  },
  {
   "metadata": {},
   "cell_type": "markdown",
   "source": "Setting up the parameters",
   "id": "43126040c79e095"
  },
  {
   "metadata": {
    "ExecuteTime": {
     "end_time": "2024-04-30T11:07:14.325658Z",
     "start_time": "2024-04-30T11:07:14.317043Z"
    }
   },
   "cell_type": "code",
   "source": [
    "t = np.linspace(0, 10, 100)\n",
    "n = 3\n",
    "m = 3\n",
    "k = 10\n",
    "betaD = 10\n",
    "betaR = 10\n",
    "v = 1\n",
    "M = np.zeros((k, k))\n",
    "for i in range(k-1):\n",
    "    M[i, i-1] = 1\n",
    "    M[i, i+1] = 1"
   ],
   "id": "15f529d6cb754da5",
   "outputs": [],
   "execution_count": 20
  },
  {
   "metadata": {
    "ExecuteTime": {
     "end_time": "2024-04-30T11:07:11.989020Z",
     "start_time": "2024-04-30T11:07:11.970267Z"
    }
   },
   "cell_type": "code",
   "source": "M",
   "id": "6007cceac059151a",
   "outputs": [
    {
     "data": {
      "text/plain": [
       "array([[0., 1., 0., 0., 0., 0., 0., 0., 0., 1.],\n",
       "       [1., 0., 1., 0., 0., 0., 0., 0., 0., 0.],\n",
       "       [0., 1., 0., 1., 0., 0., 0., 0., 0., 0.],\n",
       "       [0., 0., 1., 0., 1., 0., 0., 0., 0., 0.],\n",
       "       [0., 0., 0., 1., 0., 1., 0., 0., 0., 0.],\n",
       "       [0., 0., 0., 0., 1., 0., 1., 0., 0., 0.],\n",
       "       [0., 0., 0., 0., 0., 1., 0., 1., 0., 0.],\n",
       "       [0., 0., 0., 0., 0., 0., 1., 0., 1., 0.],\n",
       "       [0., 0., 0., 0., 0., 0., 0., 1., 0., 1.],\n",
       "       [0., 0., 0., 0., 0., 0., 0., 0., 0., 0.]])"
      ]
     },
     "execution_count": 19,
     "metadata": {},
     "output_type": "execute_result"
    }
   ],
   "execution_count": 19
  },
  {
   "metadata": {},
   "cell_type": "markdown",
   "source": "Initial conditions",
   "id": "81df7dec2ceb72bf"
  },
  {
   "metadata": {
    "ExecuteTime": {
     "end_time": "2024-04-30T11:07:53.954363Z",
     "start_time": "2024-04-30T11:07:53.948131Z"
    }
   },
   "cell_type": "code",
   "source": [
    "D0 = 1e-5 * np.random.random((1, k))\n",
    "R0 = np.zeros((1, k))\n",
    "z0 = [D0, R0]"
   ],
   "id": "71eb3dfc14bd2422",
   "outputs": [],
   "execution_count": 22
  },
  {
   "metadata": {},
   "cell_type": "markdown",
   "source": "Solving the ODE",
   "id": "a8269f4de312542d"
  },
  {
   "metadata": {
    "ExecuteTime": {
     "end_time": "2024-04-30T11:15:53.354303Z",
     "start_time": "2024-04-30T11:15:53.271526Z"
    }
   },
   "cell_type": "code",
   "source": [
    "z = odeint(model, z0, t, args=(n, m, betaD, betaR, v, k, M))\n",
    "D = z[:, :k]\n",
    "R = z[:, k:2*k]"
   ],
   "id": "a3a3e37a028e8af8",
   "outputs": [
    {
     "ename": "ValueError",
     "evalue": "Initial condition y0 must be one-dimensional.",
     "output_type": "error",
     "traceback": [
      "\u001B[1;31m---------------------------------------------------------------------------\u001B[0m",
      "\u001B[1;31mValueError\u001B[0m                                Traceback (most recent call last)",
      "Cell \u001B[1;32mIn[26], line 1\u001B[0m\n\u001B[1;32m----> 1\u001B[0m z \u001B[38;5;241m=\u001B[39m \u001B[43modeint\u001B[49m\u001B[43m(\u001B[49m\u001B[43mmodel\u001B[49m\u001B[43m,\u001B[49m\u001B[43m \u001B[49m\u001B[43mz0\u001B[49m\u001B[43m,\u001B[49m\u001B[43m \u001B[49m\u001B[43mt\u001B[49m\u001B[43m,\u001B[49m\u001B[43m \u001B[49m\u001B[43margs\u001B[49m\u001B[38;5;241;43m=\u001B[39;49m\u001B[43m(\u001B[49m\u001B[43mn\u001B[49m\u001B[43m,\u001B[49m\u001B[43m \u001B[49m\u001B[43mm\u001B[49m\u001B[43m,\u001B[49m\u001B[43m \u001B[49m\u001B[43mbetaD\u001B[49m\u001B[43m,\u001B[49m\u001B[43m \u001B[49m\u001B[43mbetaR\u001B[49m\u001B[43m,\u001B[49m\u001B[43m \u001B[49m\u001B[43mv\u001B[49m\u001B[43m,\u001B[49m\u001B[43m \u001B[49m\u001B[43mk\u001B[49m\u001B[43m,\u001B[49m\u001B[43m \u001B[49m\u001B[43mM\u001B[49m\u001B[43m)\u001B[49m\u001B[43m)\u001B[49m\n\u001B[0;32m      2\u001B[0m D \u001B[38;5;241m=\u001B[39m z[:, :k]\n\u001B[0;32m      3\u001B[0m R \u001B[38;5;241m=\u001B[39m z[:, k:\u001B[38;5;241m2\u001B[39m\u001B[38;5;241m*\u001B[39mk]\n",
      "File \u001B[1;32m~\\AppData\\Local\\Programs\\Python\\Python311\\Lib\\site-packages\\scipy\\integrate\\_odepack_py.py:243\u001B[0m, in \u001B[0;36modeint\u001B[1;34m(func, y0, t, args, Dfun, col_deriv, full_output, ml, mu, rtol, atol, tcrit, h0, hmax, hmin, ixpr, mxstep, mxhnil, mxordn, mxords, printmessg, tfirst)\u001B[0m\n\u001B[0;32m    241\u001B[0m t \u001B[38;5;241m=\u001B[39m copy(t)\n\u001B[0;32m    242\u001B[0m y0 \u001B[38;5;241m=\u001B[39m copy(y0)\n\u001B[1;32m--> 243\u001B[0m output \u001B[38;5;241m=\u001B[39m \u001B[43m_odepack\u001B[49m\u001B[38;5;241;43m.\u001B[39;49m\u001B[43modeint\u001B[49m\u001B[43m(\u001B[49m\u001B[43mfunc\u001B[49m\u001B[43m,\u001B[49m\u001B[43m \u001B[49m\u001B[43my0\u001B[49m\u001B[43m,\u001B[49m\u001B[43m \u001B[49m\u001B[43mt\u001B[49m\u001B[43m,\u001B[49m\u001B[43m \u001B[49m\u001B[43margs\u001B[49m\u001B[43m,\u001B[49m\u001B[43m \u001B[49m\u001B[43mDfun\u001B[49m\u001B[43m,\u001B[49m\u001B[43m \u001B[49m\u001B[43mcol_deriv\u001B[49m\u001B[43m,\u001B[49m\u001B[43m \u001B[49m\u001B[43mml\u001B[49m\u001B[43m,\u001B[49m\u001B[43m \u001B[49m\u001B[43mmu\u001B[49m\u001B[43m,\u001B[49m\n\u001B[0;32m    244\u001B[0m \u001B[43m                         \u001B[49m\u001B[43mfull_output\u001B[49m\u001B[43m,\u001B[49m\u001B[43m \u001B[49m\u001B[43mrtol\u001B[49m\u001B[43m,\u001B[49m\u001B[43m \u001B[49m\u001B[43matol\u001B[49m\u001B[43m,\u001B[49m\u001B[43m \u001B[49m\u001B[43mtcrit\u001B[49m\u001B[43m,\u001B[49m\u001B[43m \u001B[49m\u001B[43mh0\u001B[49m\u001B[43m,\u001B[49m\u001B[43m \u001B[49m\u001B[43mhmax\u001B[49m\u001B[43m,\u001B[49m\u001B[43m \u001B[49m\u001B[43mhmin\u001B[49m\u001B[43m,\u001B[49m\n\u001B[0;32m    245\u001B[0m \u001B[43m                         \u001B[49m\u001B[43mixpr\u001B[49m\u001B[43m,\u001B[49m\u001B[43m \u001B[49m\u001B[43mmxstep\u001B[49m\u001B[43m,\u001B[49m\u001B[43m \u001B[49m\u001B[43mmxhnil\u001B[49m\u001B[43m,\u001B[49m\u001B[43m \u001B[49m\u001B[43mmxordn\u001B[49m\u001B[43m,\u001B[49m\u001B[43m \u001B[49m\u001B[43mmxords\u001B[49m\u001B[43m,\u001B[49m\n\u001B[0;32m    246\u001B[0m \u001B[43m                         \u001B[49m\u001B[38;5;28;43mint\u001B[39;49m\u001B[43m(\u001B[49m\u001B[38;5;28;43mbool\u001B[39;49m\u001B[43m(\u001B[49m\u001B[43mtfirst\u001B[49m\u001B[43m)\u001B[49m\u001B[43m)\u001B[49m\u001B[43m)\u001B[49m\n\u001B[0;32m    247\u001B[0m \u001B[38;5;28;01mif\u001B[39;00m output[\u001B[38;5;241m-\u001B[39m\u001B[38;5;241m1\u001B[39m] \u001B[38;5;241m<\u001B[39m \u001B[38;5;241m0\u001B[39m:\n\u001B[0;32m    248\u001B[0m     warning_msg \u001B[38;5;241m=\u001B[39m (\u001B[38;5;124mf\u001B[39m\u001B[38;5;124m\"\u001B[39m\u001B[38;5;132;01m{\u001B[39;00m_msgs[output[\u001B[38;5;241m-\u001B[39m\u001B[38;5;241m1\u001B[39m]]\u001B[38;5;132;01m}\u001B[39;00m\u001B[38;5;124m Run with full_output = 1 to \u001B[39m\u001B[38;5;124m\"\u001B[39m\n\u001B[0;32m    249\u001B[0m                    \u001B[38;5;124mf\u001B[39m\u001B[38;5;124m\"\u001B[39m\u001B[38;5;124mget quantitative information.\u001B[39m\u001B[38;5;124m\"\u001B[39m)\n",
      "\u001B[1;31mValueError\u001B[0m: Initial condition y0 must be one-dimensional."
     ]
    }
   ],
   "execution_count": 26
  },
  {
   "metadata": {},
   "cell_type": "markdown",
   "source": "Plotting",
   "id": "9e129049e1ff58a4"
  },
  {
   "metadata": {
    "ExecuteTime": {
     "end_time": "2024-04-30T11:15:50.303861Z",
     "start_time": "2024-04-30T11:15:50.290704Z"
    }
   },
   "cell_type": "code",
   "source": "# wait for Shachar to send the code",
   "id": "ee92780483a5753",
   "outputs": [],
   "execution_count": 25
  }
 ],
 "metadata": {
  "kernelspec": {
   "display_name": "Python 3",
   "language": "python",
   "name": "python3"
  },
  "language_info": {
   "codemirror_mode": {
    "name": "ipython",
    "version": 2
   },
   "file_extension": ".py",
   "mimetype": "text/x-python",
   "name": "python",
   "nbconvert_exporter": "python",
   "pygments_lexer": "ipython2",
   "version": "2.7.6"
  }
 },
 "nbformat": 4,
 "nbformat_minor": 5
}
