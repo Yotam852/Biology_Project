{
 "cells": [
  {
   "metadata": {},
   "cell_type": "markdown",
   "source": "Importing",
   "id": "e29134cf25164ebf"
  },
  {
   "metadata": {
    "ExecuteTime": {
     "end_time": "2024-05-01T11:37:49.875668Z",
     "start_time": "2024-05-01T11:37:48.775851Z"
    }
   },
   "cell_type": "code",
   "source": [
    "import numpy as np\n",
    "import matplotlib.pyplot as plt\n",
    "import scienceplots\n",
    "import scipy as sp\n",
    "from scipy.integrate import odeint\n",
    "import sympy as smp"
   ],
   "id": "a2e48590b2b5041f",
   "outputs": [],
   "execution_count": 1
  },
  {
   "metadata": {},
   "cell_type": "markdown",
   "source": "Defining the variables",
   "id": "895641a39d717f6f"
  },
  {
   "metadata": {
    "ExecuteTime": {
     "end_time": "2024-05-01T11:37:49.879743Z",
     "start_time": "2024-05-01T11:37:49.875668Z"
    }
   },
   "cell_type": "code",
   "source": [
    "x, y = smp.symbols('x y')\n",
    "beta = 1\n",
    "gamma = 1\n",
    "n = 1"
   ],
   "id": "bbd0eac381905739",
   "outputs": [],
   "execution_count": 2
  },
  {
   "metadata": {},
   "cell_type": "markdown",
   "source": "Defining the functions",
   "id": "e36505c67c9af80e"
  },
  {
   "metadata": {
    "ExecuteTime": {
     "end_time": "2024-05-01T11:37:49.933995Z",
     "start_time": "2024-05-01T11:37:49.879743Z"
    }
   },
   "cell_type": "code",
   "source": [
    "F = beta / (1 + y**n) - gamma * x\n",
    "G = beta / (1 + x**n) - gamma * y"
   ],
   "id": "39697e06e0bcb31d",
   "outputs": [],
   "execution_count": 3
  },
  {
   "metadata": {},
   "cell_type": "markdown",
   "source": "Finding the intersecting point of F and G",
   "id": "e023595242b744ae"
  },
  {
   "metadata": {
    "ExecuteTime": {
     "end_time": "2024-05-01T11:37:50.118712Z",
     "start_time": "2024-05-01T11:37:49.933995Z"
    }
   },
   "cell_type": "code",
   "source": [
    "range_start = 0\n",
    "range_end = 1\n",
    "intersection_points = smp.solve(F - G, (x, y))\n",
    "# intersection_points_in_range = []\n",
    "# for point in intersection_points:\n",
    "#     x_val = point[0].evalf()\n",
    "#     y_val = point[1].evalf()\n",
    "#     if 0 <= x_val <= 1 and 0 <= y_val <= 1:\n",
    "#         intersection_points_in_range.append((x_val, y_val))\n",
    "# intersection_points_in_range\n",
    "intersection_points"
   ],
   "id": "7444da9a158298da",
   "outputs": [
    {
     "data": {
      "text/plain": [
       "[(y, y), (-y/(y + 1), y)]"
      ]
     },
     "execution_count": 4,
     "metadata": {},
     "output_type": "execute_result"
    }
   ],
   "execution_count": 4
  },
  {
   "metadata": {},
   "cell_type": "markdown",
   "source": "Calculating the derivatives",
   "id": "b33f29b5472f9ec2"
  },
  {
   "metadata": {
    "ExecuteTime": {
     "end_time": "2024-05-01T11:37:50.129562Z",
     "start_time": "2024-05-01T11:37:50.118712Z"
    }
   },
   "cell_type": "code",
   "source": [
    "values = {}\n",
    "dF_dx = F.diff(x).subs(values)\n",
    "dF_dy = F.diff(y).subs(values)\n",
    "dG_dx = G.diff(x).subs(values)\n",
    "dG_dy = G.diff(y).subs(values)"
   ],
   "id": "d142a98de5f817a3",
   "outputs": [],
   "execution_count": 5
  },
  {
   "metadata": {},
   "cell_type": "markdown",
   "source": "Creating the Jacobin matrix",
   "id": "9326942afcd0e912"
  },
  {
   "metadata": {
    "ExecuteTime": {
     "end_time": "2024-05-01T11:37:50.144799Z",
     "start_time": "2024-05-01T11:37:50.129562Z"
    }
   },
   "cell_type": "code",
   "source": "J = np.array([[dF_dx, dF_dy], [dG_dx, dG_dy]])",
   "id": "b995a0dfee73d20e",
   "outputs": [],
   "execution_count": 6
  },
  {
   "metadata": {},
   "cell_type": "markdown",
   "source": "Calculating the eigenvalues",
   "id": "5ed12e794f5366a8"
  },
  {
   "metadata": {
    "ExecuteTime": {
     "end_time": "2024-05-01T11:37:50.730259Z",
     "start_time": "2024-05-01T11:37:50.145218Z"
    }
   },
   "cell_type": "code",
   "source": "l, v = np.linalg.eig(J)",
   "id": "8aa2d42649a05185",
   "outputs": [
    {
     "ename": "TypeError",
     "evalue": "ufunc 'isfinite' not supported for the input types, and the inputs could not be safely coerced to any supported types according to the casting rule ''safe''",
     "output_type": "error",
     "traceback": [
      "\u001B[1;31m---------------------------------------------------------------------------\u001B[0m",
      "\u001B[1;31mTypeError\u001B[0m                                 Traceback (most recent call last)",
      "Cell \u001B[1;32mIn[7], line 1\u001B[0m\n\u001B[1;32m----> 1\u001B[0m l, v \u001B[38;5;241m=\u001B[39m \u001B[43mnp\u001B[49m\u001B[38;5;241;43m.\u001B[39;49m\u001B[43mlinalg\u001B[49m\u001B[38;5;241;43m.\u001B[39;49m\u001B[43meig\u001B[49m\u001B[43m(\u001B[49m\u001B[43mJ\u001B[49m\u001B[43m)\u001B[49m\n",
      "File \u001B[1;32m~\\AppData\\Local\\Programs\\Python\\Python311\\Lib\\site-packages\\numpy\\linalg\\linalg.py:1329\u001B[0m, in \u001B[0;36meig\u001B[1;34m(a)\u001B[0m\n\u001B[0;32m   1327\u001B[0m _assert_stacked_2d(a)\n\u001B[0;32m   1328\u001B[0m _assert_stacked_square(a)\n\u001B[1;32m-> 1329\u001B[0m \u001B[43m_assert_finite\u001B[49m\u001B[43m(\u001B[49m\u001B[43ma\u001B[49m\u001B[43m)\u001B[49m\n\u001B[0;32m   1330\u001B[0m t, result_t \u001B[38;5;241m=\u001B[39m _commonType(a)\n\u001B[0;32m   1332\u001B[0m extobj \u001B[38;5;241m=\u001B[39m get_linalg_error_extobj(\n\u001B[0;32m   1333\u001B[0m     _raise_linalgerror_eigenvalues_nonconvergence)\n",
      "File \u001B[1;32m~\\AppData\\Local\\Programs\\Python\\Python311\\Lib\\site-packages\\numpy\\linalg\\linalg.py:217\u001B[0m, in \u001B[0;36m_assert_finite\u001B[1;34m(*arrays)\u001B[0m\n\u001B[0;32m    215\u001B[0m \u001B[38;5;28;01mdef\u001B[39;00m \u001B[38;5;21m_assert_finite\u001B[39m(\u001B[38;5;241m*\u001B[39marrays):\n\u001B[0;32m    216\u001B[0m     \u001B[38;5;28;01mfor\u001B[39;00m a \u001B[38;5;129;01min\u001B[39;00m arrays:\n\u001B[1;32m--> 217\u001B[0m         \u001B[38;5;28;01mif\u001B[39;00m \u001B[38;5;129;01mnot\u001B[39;00m \u001B[43misfinite\u001B[49m\u001B[43m(\u001B[49m\u001B[43ma\u001B[49m\u001B[43m)\u001B[49m\u001B[38;5;241m.\u001B[39mall():\n\u001B[0;32m    218\u001B[0m             \u001B[38;5;28;01mraise\u001B[39;00m LinAlgError(\u001B[38;5;124m\"\u001B[39m\u001B[38;5;124mArray must not contain infs or NaNs\u001B[39m\u001B[38;5;124m\"\u001B[39m)\n",
      "\u001B[1;31mTypeError\u001B[0m: ufunc 'isfinite' not supported for the input types, and the inputs could not be safely coerced to any supported types according to the casting rule ''safe''"
     ]
    }
   ],
   "execution_count": 7
  }
 ],
 "metadata": {
  "kernelspec": {
   "display_name": "Python 3",
   "language": "python",
   "name": "python3"
  },
  "language_info": {
   "codemirror_mode": {
    "name": "ipython",
    "version": 2
   },
   "file_extension": ".py",
   "mimetype": "text/x-python",
   "name": "python",
   "nbconvert_exporter": "python",
   "pygments_lexer": "ipython2",
   "version": "2.7.6"
  }
 },
 "nbformat": 4,
 "nbformat_minor": 5
}
