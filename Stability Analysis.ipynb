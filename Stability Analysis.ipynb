{
 "cells": [
  {
   "metadata": {},
   "cell_type": "markdown",
   "source": "Importing",
   "id": "e29134cf25164ebf"
  },
  {
   "metadata": {
    "ExecuteTime": {
     "end_time": "2024-05-07T12:42:20.910841Z",
     "start_time": "2024-05-07T12:42:20.896479Z"
    }
   },
   "cell_type": "code",
   "source": [
    "import numpy as np\n",
    "import matplotlib.pyplot as plt\n",
    "import scienceplots\n",
    "import scipy as sp\n",
    "from scipy.integrate import odeint\n",
    "import sympy as smp\n",
    "from sympy import *"
   ],
   "id": "a2e48590b2b5041f",
   "outputs": [],
   "execution_count": 12
  },
  {
   "metadata": {},
   "cell_type": "markdown",
   "source": "Defining the variables",
   "id": "895641a39d717f6f"
  },
  {
   "metadata": {
    "ExecuteTime": {
     "end_time": "2024-05-07T12:42:20.920473Z",
     "start_time": "2024-05-07T12:42:20.910841Z"
    }
   },
   "cell_type": "code",
   "source": "x, y, beta, gamma, n, A = smp.symbols('x y beta gamma n A ')",
   "id": "bbd0eac381905739",
   "outputs": [],
   "execution_count": 13
  },
  {
   "metadata": {},
   "cell_type": "markdown",
   "source": "Defining the functions for the Homogenous S.S",
   "id": "e36505c67c9af80e"
  },
  {
   "metadata": {
    "ExecuteTime": {
     "end_time": "2024-05-07T12:42:20.932129Z",
     "start_time": "2024-05-07T12:42:20.920473Z"
    }
   },
   "cell_type": "code",
   "source": [
    "F = beta / (1 + y**n) - gamma * x\n",
    "G = beta / (1 + x**n) - gamma * y"
   ],
   "id": "39697e06e0bcb31d",
   "outputs": [],
   "execution_count": 14
  },
  {
   "metadata": {},
   "cell_type": "markdown",
   "source": "Creating the Jacobin matrix\n",
   "id": "d58a0f94c8fd25a2"
  },
  {
   "metadata": {
    "ExecuteTime": {
     "end_time": "2024-05-07T12:42:20.945398Z",
     "start_time": "2024-05-07T12:42:20.933135Z"
    }
   },
   "cell_type": "code",
   "source": [
    "dF_dx = F.diff(x)\n",
    "dF_dy = F.diff(y).subs(y, x).subs(beta/(1+x**n), gamma*x).subs(x**n/(1+x**n), A) \n",
    "dG_dx = G.diff(x).subs(beta/(1+x**n), gamma*x).subs(x**n/(1+x**n), A) \n",
    "dG_dy = G.diff(y)\n",
    "J = Matrix([[dF_dx, dF_dy], [dG_dx, dG_dy]])\n",
    "J"
   ],
   "id": "8a8a60c38e43087c",
   "outputs": [
    {
     "data": {
      "text/plain": [
       "Matrix([\n",
       "[    -gamma, -A*gamma*n],\n",
       "[-A*gamma*n,     -gamma]])"
      ],
      "text/latex": "$\\displaystyle \\left[\\begin{matrix}- \\gamma & - A \\gamma n\\\\- A \\gamma n & - \\gamma\\end{matrix}\\right]$"
     },
     "execution_count": 15,
     "metadata": {},
     "output_type": "execute_result"
    }
   ],
   "execution_count": 15
  },
  {
   "metadata": {},
   "cell_type": "markdown",
   "source": "Calculating the eigenvalues",
   "id": "5ed12e794f5366a8"
  },
  {
   "metadata": {
    "ExecuteTime": {
     "end_time": "2024-05-07T12:42:49.052364Z",
     "start_time": "2024-05-07T12:42:49.034648Z"
    }
   },
   "cell_type": "code",
   "source": [
    "V = J.subs(gamma, 1).subs(A, 0.25).subs(n, 3)\n",
    "V.eigenvals()"
   ],
   "id": "dfb75e0d5465f02c",
   "outputs": [
    {
     "data": {
      "text/plain": [
       "{-1.75000000000000: 1, -0.250000000000000: 1}"
      ]
     },
     "execution_count": 18,
     "metadata": {},
     "output_type": "execute_result"
    }
   ],
   "execution_count": 18
  }
 ],
 "metadata": {
  "kernelspec": {
   "display_name": "Python 3",
   "language": "python",
   "name": "python3"
  },
  "language_info": {
   "codemirror_mode": {
    "name": "ipython",
    "version": 2
   },
   "file_extension": ".py",
   "mimetype": "text/x-python",
   "name": "python",
   "nbconvert_exporter": "python",
   "pygments_lexer": "ipython2",
   "version": "2.7.6"
  }
 },
 "nbformat": 4,
 "nbformat_minor": 5
}
