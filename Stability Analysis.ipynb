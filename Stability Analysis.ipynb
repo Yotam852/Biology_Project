{
 "cells": [
  {
   "metadata": {},
   "cell_type": "markdown",
   "source": "Importing",
   "id": "e29134cf25164ebf"
  },
  {
   "metadata": {
    "ExecuteTime": {
     "end_time": "2024-04-30T13:21:15.999920Z",
     "start_time": "2024-04-30T13:21:15.996950Z"
    }
   },
   "cell_type": "code",
   "source": [
    "import numpy as np\n",
    "import matplotlib.pyplot as plt\n",
    "import scienceplots\n",
    "import scipy as sp\n",
    "from scipy.integrate import odeint\n",
    "import sympy as smp\n",
    "from sympy import intersection"
   ],
   "id": "a2e48590b2b5041f",
   "outputs": [],
   "execution_count": 13
  },
  {
   "metadata": {},
   "cell_type": "markdown",
   "source": "Defining the variables",
   "id": "895641a39d717f6f"
  },
  {
   "metadata": {
    "ExecuteTime": {
     "end_time": "2024-04-30T13:18:01.626730Z",
     "start_time": "2024-04-30T13:18:01.623679Z"
    }
   },
   "cell_type": "code",
   "source": [
    "x, y = smp.symbols('x y')\n",
    "beta = 10\n",
    "gamma = 1\n",
    "n = 1"
   ],
   "id": "bbd0eac381905739",
   "outputs": [],
   "execution_count": 3
  },
  {
   "metadata": {},
   "cell_type": "markdown",
   "source": "Defining the functions",
   "id": "e36505c67c9af80e"
  },
  {
   "metadata": {
    "ExecuteTime": {
     "end_time": "2024-04-30T13:18:03.803548Z",
     "start_time": "2024-04-30T13:18:03.671894Z"
    }
   },
   "cell_type": "code",
   "source": [
    "F = 1 / gamma * beta / (1 + y ** n)\n",
    "G = 1 / gamma * beta / (1 + x ** n)"
   ],
   "id": "39697e06e0bcb31d",
   "outputs": [],
   "execution_count": 4
  },
  {
   "metadata": {},
   "cell_type": "markdown",
   "source": "Finding the intersections",
   "id": "1bb60ab7feff6e6e"
  },
  {
   "metadata": {
    "ExecuteTime": {
     "end_time": "2024-04-30T13:23:27.959906Z",
     "start_time": "2024-04-30T13:23:27.951168Z"
    }
   },
   "cell_type": "code",
   "source": "c = smp.solve(F - G, (x, y))",
   "id": "92f3edd00ad95bca",
   "outputs": [],
   "execution_count": 22
  },
  {
   "metadata": {
    "ExecuteTime": {
     "end_time": "2024-04-30T13:24:34.503809Z",
     "start_time": "2024-04-30T13:24:34.498555Z"
    }
   },
   "cell_type": "code",
   "source": "c",
   "id": "1f991aaf187cd208",
   "outputs": [
    {
     "data": {
      "text/plain": [
       "[(y, y)]"
      ]
     },
     "execution_count": 30,
     "metadata": {},
     "output_type": "execute_result"
    }
   ],
   "execution_count": 30
  },
  {
   "metadata": {},
   "cell_type": "markdown",
   "source": "Calculating the derivatives",
   "id": "b33f29b5472f9ec2"
  },
  {
   "metadata": {
    "ExecuteTime": {
     "end_time": "2024-04-30T13:19:44.213218Z",
     "start_time": "2024-04-30T13:19:44.193121Z"
    }
   },
   "cell_type": "code",
   "source": [
    "values = {}\n",
    "dF_dx = F.diff(x).subs(values)\n",
    "dF_dy = F.diff(y).subs(values)\n",
    "dG_dx = G.diff(x).subs(values)\n",
    "dG_dy = G.diff(y).subs(values)"
   ],
   "id": "d142a98de5f817a3",
   "outputs": [],
   "execution_count": 7
  },
  {
   "metadata": {},
   "cell_type": "markdown",
   "source": "Creating the Jacobin matrix",
   "id": "9326942afcd0e912"
  },
  {
   "metadata": {
    "ExecuteTime": {
     "end_time": "2024-04-30T13:19:45.842655Z",
     "start_time": "2024-04-30T13:19:45.839717Z"
    }
   },
   "cell_type": "code",
   "source": "J = np.array([[dF_dx, dF_dy], [dG_dx, dG_dy]])",
   "id": "b995a0dfee73d20e",
   "outputs": [],
   "execution_count": 8
  },
  {
   "metadata": {},
   "cell_type": "markdown",
   "source": "Calculating the eigenvalues",
   "id": "5ed12e794f5366a8"
  },
  {
   "metadata": {
    "ExecuteTime": {
     "end_time": "2024-04-30T13:19:48.170064Z",
     "start_time": "2024-04-30T13:19:48.085418Z"
    }
   },
   "cell_type": "code",
   "source": "l, v = np.linalg.eig(J)",
   "id": "8aa2d42649a05185",
   "outputs": [
    {
     "ename": "TypeError",
     "evalue": "ufunc 'isfinite' not supported for the input types, and the inputs could not be safely coerced to any supported types according to the casting rule ''safe''",
     "output_type": "error",
     "traceback": [
      "\u001B[1;31m---------------------------------------------------------------------------\u001B[0m",
      "\u001B[1;31mTypeError\u001B[0m                                 Traceback (most recent call last)",
      "Cell \u001B[1;32mIn[9], line 1\u001B[0m\n\u001B[1;32m----> 1\u001B[0m l, v \u001B[38;5;241m=\u001B[39m \u001B[43mnp\u001B[49m\u001B[38;5;241;43m.\u001B[39;49m\u001B[43mlinalg\u001B[49m\u001B[38;5;241;43m.\u001B[39;49m\u001B[43meig\u001B[49m\u001B[43m(\u001B[49m\u001B[43mJ\u001B[49m\u001B[43m)\u001B[49m\n",
      "File \u001B[1;32m~\\AppData\\Local\\Programs\\Python\\Python311\\Lib\\site-packages\\numpy\\linalg\\linalg.py:1329\u001B[0m, in \u001B[0;36meig\u001B[1;34m(a)\u001B[0m\n\u001B[0;32m   1327\u001B[0m _assert_stacked_2d(a)\n\u001B[0;32m   1328\u001B[0m _assert_stacked_square(a)\n\u001B[1;32m-> 1329\u001B[0m \u001B[43m_assert_finite\u001B[49m\u001B[43m(\u001B[49m\u001B[43ma\u001B[49m\u001B[43m)\u001B[49m\n\u001B[0;32m   1330\u001B[0m t, result_t \u001B[38;5;241m=\u001B[39m _commonType(a)\n\u001B[0;32m   1332\u001B[0m extobj \u001B[38;5;241m=\u001B[39m get_linalg_error_extobj(\n\u001B[0;32m   1333\u001B[0m     _raise_linalgerror_eigenvalues_nonconvergence)\n",
      "File \u001B[1;32m~\\AppData\\Local\\Programs\\Python\\Python311\\Lib\\site-packages\\numpy\\linalg\\linalg.py:217\u001B[0m, in \u001B[0;36m_assert_finite\u001B[1;34m(*arrays)\u001B[0m\n\u001B[0;32m    215\u001B[0m \u001B[38;5;28;01mdef\u001B[39;00m \u001B[38;5;21m_assert_finite\u001B[39m(\u001B[38;5;241m*\u001B[39marrays):\n\u001B[0;32m    216\u001B[0m     \u001B[38;5;28;01mfor\u001B[39;00m a \u001B[38;5;129;01min\u001B[39;00m arrays:\n\u001B[1;32m--> 217\u001B[0m         \u001B[38;5;28;01mif\u001B[39;00m \u001B[38;5;129;01mnot\u001B[39;00m \u001B[43misfinite\u001B[49m\u001B[43m(\u001B[49m\u001B[43ma\u001B[49m\u001B[43m)\u001B[49m\u001B[38;5;241m.\u001B[39mall():\n\u001B[0;32m    218\u001B[0m             \u001B[38;5;28;01mraise\u001B[39;00m LinAlgError(\u001B[38;5;124m\"\u001B[39m\u001B[38;5;124mArray must not contain infs or NaNs\u001B[39m\u001B[38;5;124m\"\u001B[39m)\n",
      "\u001B[1;31mTypeError\u001B[0m: ufunc 'isfinite' not supported for the input types, and the inputs could not be safely coerced to any supported types according to the casting rule ''safe''"
     ]
    }
   ],
   "execution_count": 9
  }
 ],
 "metadata": {
  "kernelspec": {
   "display_name": "Python 3",
   "language": "python",
   "name": "python3"
  },
  "language_info": {
   "codemirror_mode": {
    "name": "ipython",
    "version": 2
   },
   "file_extension": ".py",
   "mimetype": "text/x-python",
   "name": "python",
   "nbconvert_exporter": "python",
   "pygments_lexer": "ipython2",
   "version": "2.7.6"
  }
 },
 "nbformat": 4,
 "nbformat_minor": 5
}
