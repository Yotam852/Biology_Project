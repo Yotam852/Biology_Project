{
 "cells": [
  {
   "metadata": {},
   "cell_type": "markdown",
   "source": "Importing",
   "id": "e29134cf25164ebf"
  },
  {
   "metadata": {
    "ExecuteTime": {
     "end_time": "2024-05-13T14:56:57.961360Z",
     "start_time": "2024-05-13T14:56:55.007086Z"
    }
   },
   "cell_type": "code",
   "source": [
    "import numpy as np\n",
    "import matplotlib.pyplot as plt\n",
    "import scienceplots\n",
    "import scipy as sp\n",
    "from scipy.integrate import odeint\n",
    "import sympy as smp\n",
    "from sympy import *"
   ],
   "id": "a2e48590b2b5041f",
   "outputs": [],
   "execution_count": 1
  },
  {
   "metadata": {},
   "cell_type": "markdown",
   "source": "Defining the variables",
   "id": "895641a39d717f6f"
  },
  {
   "metadata": {
    "ExecuteTime": {
     "end_time": "2024-05-13T14:56:57.969228Z",
     "start_time": "2024-05-13T14:56:57.961360Z"
    }
   },
   "cell_type": "code",
   "source": "x, y, beta, gamma, n, A, k = smp.symbols('x y beta gamma n A k')",
   "id": "bbd0eac381905739",
   "outputs": [],
   "execution_count": 2
  },
  {
   "metadata": {},
   "cell_type": "markdown",
   "source": "Defining the functions for the Homogenous S.S",
   "id": "e36505c67c9af80e"
  },
  {
   "metadata": {
    "ExecuteTime": {
     "end_time": "2024-05-13T14:56:58.066954Z",
     "start_time": "2024-05-13T14:56:57.971569Z"
    }
   },
   "cell_type": "code",
   "source": [
    "F = beta / (k**n + y**n) - gamma * x\n",
    "G = beta / (k**n + x**n) - gamma * y"
   ],
   "id": "39697e06e0bcb31d",
   "outputs": [],
   "execution_count": 3
  },
  {
   "metadata": {},
   "cell_type": "markdown",
   "source": "Creating the Jacobin matrix\n",
   "id": "d58a0f94c8fd25a2"
  },
  {
   "metadata": {
    "ExecuteTime": {
     "end_time": "2024-05-13T14:56:58.144709Z",
     "start_time": "2024-05-13T14:56:58.066954Z"
    }
   },
   "cell_type": "code",
   "source": [
    "dF_dx = F.diff(x)\n",
    "dF_dy = F.diff(y).subs(y, x).subs(beta/(k**n+x**n), gamma*x).subs(x**n/(k**n+x**n), A) \n",
    "dG_dx = G.diff(x).subs(beta/(k**n+x**n), gamma*x).subs(x**n/(k**n+x**n), A) \n",
    "dG_dy = G.diff(y)\n",
    "J = Matrix([[dF_dx, dF_dy], [dG_dx, dG_dy]])\n",
    "J"
   ],
   "id": "8a8a60c38e43087c",
   "outputs": [
    {
     "data": {
      "text/plain": [
       "Matrix([\n",
       "[    -gamma, -A*gamma*n],\n",
       "[-A*gamma*n,     -gamma]])"
      ],
      "text/latex": "$\\displaystyle \\left[\\begin{matrix}- \\gamma & - A \\gamma n\\\\- A \\gamma n & - \\gamma\\end{matrix}\\right]$"
     },
     "execution_count": 4,
     "metadata": {},
     "output_type": "execute_result"
    }
   ],
   "execution_count": 4
  },
  {
   "metadata": {},
   "cell_type": "markdown",
   "source": "Calculating the eigenvalues",
   "id": "5ed12e794f5366a8"
  },
  {
   "metadata": {
    "ExecuteTime": {
     "end_time": "2024-05-13T14:57:02.708215Z",
     "start_time": "2024-05-13T14:57:02.681742Z"
    }
   },
   "cell_type": "code",
   "source": [
    "V = J.subs(gamma, 1).subs(A, 0.25).subs(n, 3)\n",
    "V.eigenvals()"
   ],
   "id": "dfb75e0d5465f02c",
   "outputs": [
    {
     "data": {
      "text/plain": [
       "{-1.75000000000000: 1, -0.250000000000000: 1}"
      ]
     },
     "execution_count": 6,
     "metadata": {},
     "output_type": "execute_result"
    }
   ],
   "execution_count": 6
  }
 ],
 "metadata": {
  "kernelspec": {
   "display_name": "Python 3",
   "language": "python",
   "name": "python3"
  },
  "language_info": {
   "codemirror_mode": {
    "name": "ipython",
    "version": 2
   },
   "file_extension": ".py",
   "mimetype": "text/x-python",
   "name": "python",
   "nbconvert_exporter": "python",
   "pygments_lexer": "ipython2",
   "version": "2.7.6"
  }
 },
 "nbformat": 4,
 "nbformat_minor": 5
}
